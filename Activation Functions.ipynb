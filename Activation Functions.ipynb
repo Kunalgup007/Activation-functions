{
 "cells": [
  {
   "cell_type": "markdown",
   "id": "e16364fd",
   "metadata": {},
   "source": [
    "# Activation Fuction"
   ]
  },
  {
   "cell_type": "markdown",
   "id": "43073659",
   "metadata": {},
   "source": [
    "### Binary Step function"
   ]
  },
  {
   "cell_type": "code",
   "execution_count": 1,
   "id": "71fa9427",
   "metadata": {},
   "outputs": [],
   "source": [
    "def binary_step(x):\n",
    "    if x <0:\n",
    "        return 0\n",
    "    else:\n",
    "        return 1"
   ]
  },
  {
   "cell_type": "code",
   "execution_count": 2,
   "id": "b1f122b5",
   "metadata": {},
   "outputs": [
    {
     "data": {
      "text/plain": [
       "1"
      ]
     },
     "execution_count": 2,
     "metadata": {},
     "output_type": "execute_result"
    }
   ],
   "source": [
    "binary_step(3)"
   ]
  },
  {
   "cell_type": "code",
   "execution_count": 3,
   "id": "816d9f2b",
   "metadata": {},
   "outputs": [
    {
     "data": {
      "text/plain": [
       "0"
      ]
     },
     "execution_count": 3,
     "metadata": {},
     "output_type": "execute_result"
    }
   ],
   "source": [
    "binary_step(-22)"
   ]
  },
  {
   "cell_type": "markdown",
   "id": "016d51ea",
   "metadata": {},
   "source": [
    "### Linear Function"
   ]
  },
  {
   "cell_type": "code",
   "execution_count": 4,
   "id": "4aaf0e80",
   "metadata": {},
   "outputs": [],
   "source": [
    "def linear_function(x):\n",
    "    return 3*x"
   ]
  },
  {
   "cell_type": "code",
   "execution_count": 5,
   "id": "b37b0306",
   "metadata": {},
   "outputs": [
    {
     "data": {
      "text/plain": [
       "30"
      ]
     },
     "execution_count": 5,
     "metadata": {},
     "output_type": "execute_result"
    }
   ],
   "source": [
    "linear_function(10)"
   ]
  },
  {
   "cell_type": "code",
   "execution_count": 7,
   "id": "8ba590ee",
   "metadata": {},
   "outputs": [
    {
     "data": {
      "text/plain": [
       "-69"
      ]
     },
     "execution_count": 7,
     "metadata": {},
     "output_type": "execute_result"
    }
   ],
   "source": [
    "linear_function(-23)"
   ]
  },
  {
   "cell_type": "markdown",
   "id": "f30268e9",
   "metadata": {},
   "source": [
    "### Sigmoid Function"
   ]
  },
  {
   "cell_type": "code",
   "execution_count": 10,
   "id": "5b4b6f8c",
   "metadata": {},
   "outputs": [],
   "source": [
    "import numpy as np\n",
    "def sigmoid_fun(x):\n",
    "    z = (1/(1+np.exp(-x)))\n",
    "    return z"
   ]
  },
  {
   "cell_type": "code",
   "execution_count": 11,
   "id": "52673b6d",
   "metadata": {},
   "outputs": [
    {
     "data": {
      "text/plain": [
       "0.01798620996209156"
      ]
     },
     "execution_count": 11,
     "metadata": {},
     "output_type": "execute_result"
    }
   ],
   "source": [
    "sigmoid_fun(-4)"
   ]
  },
  {
   "cell_type": "code",
   "execution_count": 12,
   "id": "221c5768",
   "metadata": {},
   "outputs": [
    {
     "data": {
      "text/plain": [
       "0.9820137900379085"
      ]
     },
     "execution_count": 12,
     "metadata": {},
     "output_type": "execute_result"
    }
   ],
   "source": [
    "sigmoid_fun(4)"
   ]
  },
  {
   "cell_type": "markdown",
   "id": "d8d2fbaf",
   "metadata": {},
   "source": [
    "### Tanh"
   ]
  },
  {
   "cell_type": "code",
   "execution_count": 13,
   "id": "31c399c5",
   "metadata": {},
   "outputs": [],
   "source": [
    "def tanh_func(x):\n",
    "    z = (2/(1+np.exp(-2*x)))-1\n",
    "    return z"
   ]
  },
  {
   "cell_type": "code",
   "execution_count": 15,
   "id": "f4fe24af",
   "metadata": {},
   "outputs": [
    {
     "data": {
      "text/plain": [
       "-0.9999501692221211"
      ]
     },
     "execution_count": 15,
     "metadata": {},
     "output_type": "execute_result"
    }
   ],
   "source": [
    "tanh_func(-5.3)"
   ]
  },
  {
   "cell_type": "code",
   "execution_count": 17,
   "id": "21df50ae",
   "metadata": {},
   "outputs": [
    {
     "data": {
      "text/plain": [
       "0.9999092042625952"
      ]
     },
     "execution_count": 17,
     "metadata": {},
     "output_type": "execute_result"
    }
   ],
   "source": [
    "tanh_func(5)"
   ]
  },
  {
   "cell_type": "markdown",
   "id": "4773698e",
   "metadata": {},
   "source": [
    "### ReLU"
   ]
  },
  {
   "cell_type": "code",
   "execution_count": 18,
   "id": "7ce36b8c",
   "metadata": {},
   "outputs": [],
   "source": [
    "def relu_func(x):\n",
    "    if x<0:\n",
    "        return 0\n",
    "    else:\n",
    "        return x"
   ]
  },
  {
   "cell_type": "code",
   "execution_count": 19,
   "id": "04ce2b4b",
   "metadata": {},
   "outputs": [
    {
     "data": {
      "text/plain": [
       "0"
      ]
     },
     "execution_count": 19,
     "metadata": {},
     "output_type": "execute_result"
    }
   ],
   "source": [
    "relu_func(-7)"
   ]
  },
  {
   "cell_type": "code",
   "execution_count": 20,
   "id": "aa4b6dae",
   "metadata": {},
   "outputs": [
    {
     "data": {
      "text/plain": [
       "7"
      ]
     },
     "execution_count": 20,
     "metadata": {},
     "output_type": "execute_result"
    }
   ],
   "source": [
    "relu_func(7)"
   ]
  },
  {
   "cell_type": "markdown",
   "id": "32438b61",
   "metadata": {},
   "source": [
    "### Leaky ReLU"
   ]
  },
  {
   "cell_type": "code",
   "execution_count": 21,
   "id": "d63e41bf",
   "metadata": {},
   "outputs": [],
   "source": [
    "def leaky_relu_func(x):\n",
    "    if x < 0:\n",
    "        return 0.01*x\n",
    "    else:\n",
    "        return x"
   ]
  },
  {
   "cell_type": "code",
   "execution_count": 22,
   "id": "e976f87d",
   "metadata": {},
   "outputs": [
    {
     "data": {
      "text/plain": [
       "9"
      ]
     },
     "execution_count": 22,
     "metadata": {},
     "output_type": "execute_result"
    }
   ],
   "source": [
    "leaky_relu_func(9)"
   ]
  },
  {
   "cell_type": "code",
   "execution_count": 23,
   "id": "88940f91",
   "metadata": {},
   "outputs": [
    {
     "data": {
      "text/plain": [
       "-0.09"
      ]
     },
     "execution_count": 23,
     "metadata": {},
     "output_type": "execute_result"
    }
   ],
   "source": [
    "leaky_relu_func(-9)"
   ]
  },
  {
   "cell_type": "markdown",
   "id": "3073dbe9",
   "metadata": {},
   "source": [
    "### ELU(Expontential Linear Unit)"
   ]
  },
  {
   "cell_type": "code",
   "execution_count": 26,
   "id": "76e6f2c6",
   "metadata": {},
   "outputs": [],
   "source": [
    "def elu_fun(x,a):\n",
    "    if x < 0:\n",
    "        return a*(np.exp(x)-1)\n",
    "    else:\n",
    "        return x"
   ]
  },
  {
   "cell_type": "code",
   "execution_count": 27,
   "id": "91b5dd2b",
   "metadata": {},
   "outputs": [
    {
     "data": {
      "text/plain": [
       "8"
      ]
     },
     "execution_count": 27,
     "metadata": {},
     "output_type": "execute_result"
    }
   ],
   "source": [
    "elu_fun(8,0.1)"
   ]
  },
  {
   "cell_type": "code",
   "execution_count": 28,
   "id": "9bbab562",
   "metadata": {},
   "outputs": [
    {
     "data": {
      "text/plain": [
       "-0.299999999916316"
      ]
     },
     "execution_count": 28,
     "metadata": {},
     "output_type": "execute_result"
    }
   ],
   "source": [
    "elu_fun(-22,0.3)"
   ]
  },
  {
   "cell_type": "markdown",
   "id": "85c7afa8",
   "metadata": {},
   "source": [
    "### Swish"
   ]
  },
  {
   "cell_type": "code",
   "execution_count": 30,
   "id": "712f497d",
   "metadata": {},
   "outputs": [],
   "source": [
    "def swish(x):\n",
    "    return x/(1-np.exp(-x))"
   ]
  },
  {
   "cell_type": "code",
   "execution_count": 31,
   "id": "b431cc24",
   "metadata": {},
   "outputs": [
    {
     "data": {
      "text/plain": [
       "1.432544527460402e-27"
      ]
     },
     "execution_count": 31,
     "metadata": {},
     "output_type": "execute_result"
    }
   ],
   "source": [
    "swish(-66)"
   ]
  },
  {
   "cell_type": "code",
   "execution_count": 34,
   "id": "67d96815",
   "metadata": {},
   "outputs": [
    {
     "data": {
      "text/plain": [
       "34.00000000000006"
      ]
     },
     "execution_count": 34,
     "metadata": {},
     "output_type": "execute_result"
    }
   ],
   "source": [
    "swish(34)"
   ]
  },
  {
   "cell_type": "markdown",
   "id": "0f294f95",
   "metadata": {},
   "source": [
    "### SoftMax"
   ]
  },
  {
   "cell_type": "code",
   "execution_count": 36,
   "id": "2526d668",
   "metadata": {},
   "outputs": [],
   "source": [
    "def softmax(x):\n",
    "    z=np.exp(x)\n",
    "    z_ = z/z.sum()\n",
    "    return z_"
   ]
  },
  {
   "cell_type": "code",
   "execution_count": 38,
   "id": "55b0938f",
   "metadata": {},
   "outputs": [
    {
     "data": {
      "text/plain": [
       "array([0.25949646, 0.03511903, 0.70538451])"
      ]
     },
     "execution_count": 38,
     "metadata": {},
     "output_type": "execute_result"
    }
   ],
   "source": [
    "softmax([3.0,1.0,4.0])"
   ]
  },
  {
   "cell_type": "code",
   "execution_count": null,
   "id": "71635e2f",
   "metadata": {},
   "outputs": [],
   "source": []
  }
 ],
 "metadata": {
  "kernelspec": {
   "display_name": "Python 3 (ipykernel)",
   "language": "python",
   "name": "python3"
  },
  "language_info": {
   "codemirror_mode": {
    "name": "ipython",
    "version": 3
   },
   "file_extension": ".py",
   "mimetype": "text/x-python",
   "name": "python",
   "nbconvert_exporter": "python",
   "pygments_lexer": "ipython3",
   "version": "3.10.9"
  }
 },
 "nbformat": 4,
 "nbformat_minor": 5
}
